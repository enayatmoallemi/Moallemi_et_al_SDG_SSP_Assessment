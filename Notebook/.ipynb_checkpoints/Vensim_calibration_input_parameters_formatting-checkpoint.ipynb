{
 "cells": [
  {
   "cell_type": "code",
   "execution_count": 11,
   "metadata": {},
   "outputs": [
    {
     "data": {
      "text/plain": [
       "'This notebook convert the excel spreadsheet of critical uncetain parameters in generating SSP behaviours in Felix into\\nthe required format in Vensim optimization setting'"
      ]
     },
     "execution_count": 11,
     "metadata": {},
     "output_type": "execute_result"
    }
   ],
   "source": [
    "'''This notebook convert the excel spreadsheet of critical uncetain parameters in generating SSP behaviours in Felix into\n",
    "the required format in Vensim optimization setting'''"
   ]
  },
  {
   "cell_type": "code",
   "execution_count": 1,
   "metadata": {},
   "outputs": [],
   "source": [
    "import sys\n",
    "sys.path.append(r'C:\\Users\\moallemie\\EMAworkbench-master')\n",
    "sys.path.append(r'C:\\Users\\moallemie\\EM_analysis')"
   ]
  },
  {
   "cell_type": "code",
   "execution_count": 5,
   "metadata": {},
   "outputs": [],
   "source": [
    "import pandas as pd\n",
    "import numpy as np\n",
    "import matplotlib.pyplot as plt\n",
    "import seaborn as snn"
   ]
  },
  {
   "cell_type": "code",
   "execution_count": 10,
   "metadata": {},
   "outputs": [],
   "source": [
    "directory = 'C:/Users/moallemie/GitHub/SSPs_SDGs_Assessment/Model/' \n",
    "df = pd.read_excel(directory+\"ScenarioFramework.xlsx\", sheet_name='Important_Uncertainties')"
   ]
  },
  {
   "cell_type": "code",
   "execution_count": 11,
   "metadata": {},
   "outputs": [],
   "source": [
    "uncertainties = df['Uncertainty'].unique().tolist()\n",
    "directory = 'C:/Users/moallemie/GitHub/SSPs_SDGs_Assessment/Data/Vensim_calibration/' \n",
    "file = open(directory+\"Vensim_uncertainties.txt\", \"w\") \n",
    "\n",
    "for unc, uncertainty in enumerate(uncertainties):\n",
    "    min_val = df.iloc[df.index[df['Uncertainty']==uncertainty].tolist()]['Min'].tolist()[0]\n",
    "    ref_val = df.iloc[df.index[df['Uncertainty']==uncertainty].tolist()]['Reference'].tolist()[0]\n",
    "    max_val = df.iloc[df.index[df['Uncertainty']==uncertainty].tolist()]['Max'].tolist()[0]\n",
    "    file.write(str(min_val)+\"<=\"+uncertainty+\"=\"+str(ref_val)+\"<=\"+str(max_val)+\"\\n\") \n",
    "\n",
    "file.close() "
   ]
  }
 ],
 "metadata": {
  "kernelspec": {
   "display_name": "Python 3",
   "language": "python",
   "name": "python3"
  },
  "language_info": {
   "codemirror_mode": {
    "name": "ipython",
    "version": 3
   },
   "file_extension": ".py",
   "mimetype": "text/x-python",
   "name": "python",
   "nbconvert_exporter": "python",
   "pygments_lexer": "ipython3",
   "version": "3.7.6"
  }
 },
 "nbformat": 4,
 "nbformat_minor": 4
}
