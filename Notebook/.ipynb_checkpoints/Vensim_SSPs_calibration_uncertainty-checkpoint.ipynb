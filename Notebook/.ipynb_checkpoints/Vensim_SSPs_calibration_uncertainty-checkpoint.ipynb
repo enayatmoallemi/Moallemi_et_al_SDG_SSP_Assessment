{
 "cells": [
  {
   "cell_type": "code",
   "execution_count": null,
   "metadata": {},
   "outputs": [],
   "source": [
    "'''This notebook convert the excel spreadsheet of critical uncetain parameters in generating SSP behaviours in Felix into\n",
    "the required format in Vensim optimization setting'''"
   ]
  },
  {
   "cell_type": "code",
   "execution_count": 1,
   "metadata": {},
   "outputs": [],
   "source": [
    "import sys\n",
    "sys.path.append(r'C:\\Users\\moallemie\\EMAworkbench-master')\n",
    "sys.path.append(r'C:\\Users\\moallemie\\EM_analysis')"
   ]
  },
  {
   "cell_type": "code",
   "execution_count": 2,
   "metadata": {},
   "outputs": [],
   "source": [
    "import pandas as pd\n",
    "import numpy as np\n",
    "import matplotlib.pyplot as plt\n",
    "import seaborn as snn"
   ]
  },
  {
   "cell_type": "code",
   "execution_count": 62,
   "metadata": {},
   "outputs": [],
   "source": [
    "directory = 'N:/Brett-lab/Enayat/Felix/Felix_SDGs/' \n",
    "df_unc = pd.read_excel(directory+\"ScenarioFramework.xlsx\", sheet_name='Important_Uncertainties')\n",
    "df_multiplier = pd.read_excel(directory+\"ScenarioFramework.xlsx\", sheet_name='Qualitative_assumptions')\n",
    "df_unc.set_index('Uncertainty', inplace=True)\n",
    "df_multiplier.set_index('Uncertainty', inplace=True)"
   ]
  },
  {
   "cell_type": "code",
   "execution_count": 63,
   "metadata": {},
   "outputs": [],
   "source": [
    "uncertainties = df_unc.index.values.tolist()\n",
    "\n",
    "except_1 = ['Primary Education Percentage m Variation',\n",
    " 'Primary Education Percentage f Variation',\n",
    " 'Secondary Education Percentage m Variation',\n",
    " 'Secondary Education Percentage f Variation',\n",
    " 'Tertiary Education Percentage m Variation',\n",
    " 'Tertiary Education Percentage f Variation']\n",
    "\n",
    "except_2 = ['Diet Composition Variation']\n",
    "\n",
    "except_3 = ['Relative Productivity of Investment in Fossil Fuel Production Compared to Exploration Variation', \n",
    "           'Investment in Fossil Fuel Exploration and Production Delay Variation', \n",
    "           'Sensitivity of Fossil Fuel Price to Supply and Demand Variation']\n",
    "\n",
    "for s, sc in enumerate(['SSP1', 'SSP2', 'SSP3', 'SSP4', 'SSP5']): \n",
    "    for u, unc in enumerate(uncertainties):\n",
    "\n",
    "        if unc not in except_1+except_2+except_3:\n",
    "            df_unc.loc[unc, 'Ref-'+sc] = df_unc.loc[unc,'Reference'] + df_unc.loc[unc,'Reference']*df_multiplier.loc[unc,sc+'-multiplier']\n",
    "            df_unc.loc[unc, 'Min-'+sc] = df_unc.loc[unc, 'Ref-'+sc] - df_unc.loc[unc, 'Ref-'+sc]*.25\n",
    "            df_unc.loc[unc, 'Max-'+sc] = df_unc.loc[unc, 'Ref-'+sc] + df_unc.loc[unc, 'Ref-'+sc]*.25\n",
    "            \n",
    "        if unc in except_3:\n",
    "            df_unc.loc[unc, 'Ref-'+sc] = df_unc.loc[unc,'Reference']\n",
    "            df_unc.loc[unc, 'Min-'+sc] = df_unc.loc[unc, 'Ref-'+sc] - df_unc.loc[unc, 'Ref-'+sc]*.5\n",
    "            df_unc.loc[unc, 'Max-'+sc] = df_unc.loc[unc, 'Ref-'+sc] + df_unc.loc[unc, 'Ref-'+sc]*.5\n",
    "            \n",
    "\n",
    "\n",
    "for u, unc in enumerate(uncertainties):        \n",
    "    if unc in except_1:\n",
    "        diff = (df_unc.loc[unc,'Max']-df_unc.loc[unc,'Min'])/5\n",
    "        d = df_unc.loc[unc,'Min']\n",
    "        for i in range(5):\n",
    "            d = (d + diff)\n",
    "            if i == 0:\n",
    "                df_unc.loc[unc, 'Min-SSP3'] = d-diff\n",
    "                df_unc.loc[unc, 'Max-SSP3'] = d \n",
    "                df_unc.loc[unc, 'Ref-SSP3'] = (df_unc.loc[unc, 'Min-SSP3'] + df_unc.loc[unc, 'Max-SSP3'])/2\n",
    "            if i == 1:\n",
    "                df_unc.loc[unc, 'Min-SSP4'] = d-diff\n",
    "                df_unc.loc[unc, 'Max-SSP4'] = d \n",
    "                df_unc.loc[unc, 'Ref-SSP4'] = (df_unc.loc[unc, 'Min-SSP4'] + df_unc.loc[unc, 'Max-SSP4'])/2\n",
    "            \n",
    "            if i == 2:\n",
    "                df_unc.loc[unc, 'Min-SSP2'] = d-diff\n",
    "                df_unc.loc[unc, 'Max-SSP2'] = d \n",
    "                df_unc.loc[unc, 'Ref-SSP2'] = (df_unc.loc[unc, 'Min-SSP2'] + df_unc.loc[unc, 'Max-SSP2'])/2\n",
    "                \n",
    "            if i == 4:\n",
    "                for s, sc in enumerate(['SSP1', 'SSP5']):\n",
    "                    df_unc.loc[unc, 'Min-'+sc] = d-diff\n",
    "                    df_unc.loc[unc, 'Max-'+sc] = d \n",
    "                    df_unc.loc[unc, 'Ref-'+sc] = (df_unc.loc[unc, 'Min-'+sc] + df_unc.loc[unc, 'Max-'+sc])/2\n",
    "                \n",
    "        \n",
    "            "
   ]
  },
  {
   "cell_type": "code",
   "execution_count": 64,
   "metadata": {},
   "outputs": [],
   "source": [
    "from pandas import ExcelWriter\n",
    "\n",
    "writer = ExcelWriter(directory+'temp_uncertianty_export.xlsx')\n",
    "df_unc.to_excel(writer,'Sheet5')\n",
    "writer.save()"
   ]
  },
  {
   "cell_type": "code",
   "execution_count": 65,
   "metadata": {},
   "outputs": [],
   "source": [
    "for s, sc in enumerate(['SSP1', 'SSP2', 'SSP3', 'SSP4', 'SSP5']): \n",
    "    file = open(directory+'Vensim_uncertainties_{}.txt'.format(sc), \"w\") \n",
    "\n",
    "    for i, unc in enumerate(uncertainties):\n",
    "        min_val = df_unc.loc[unc, 'Min-'+sc]\n",
    "        ref_val = df_unc.loc[unc, 'Ref-'+sc]\n",
    "        max_val = df_unc.loc[unc, 'Max-'+sc]\n",
    "        file.write(str(min_val)+\"<=\"+unc+\"=\"+str(ref_val)+\"<=\"+str(max_val)+\"\\n\") \n",
    "\n",
    "    file.close() "
   ]
  }
 ],
 "metadata": {
  "kernelspec": {
   "display_name": "Python 3",
   "language": "python",
   "name": "python3"
  },
  "language_info": {
   "codemirror_mode": {
    "name": "ipython",
    "version": 3
   },
   "file_extension": ".py",
   "mimetype": "text/x-python",
   "name": "python",
   "nbconvert_exporter": "python",
   "pygments_lexer": "ipython3",
   "version": "3.7.6"
  }
 },
 "nbformat": 4,
 "nbformat_minor": 4
}
