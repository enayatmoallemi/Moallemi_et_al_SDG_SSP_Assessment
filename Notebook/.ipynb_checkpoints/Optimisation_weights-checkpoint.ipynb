{
 "cells": [
  {
   "cell_type": "code",
   "execution_count": 1,
   "metadata": {},
   "outputs": [
    {
     "data": {
      "text/plain": [
       "'This notebook calculate the weight variables in Vensim calibration based for \\nSSP scenario variables (crops production, energy production, etc.) and \\nSSP basic elements (GDP and population).'"
      ]
     },
     "execution_count": 1,
     "metadata": {},
     "output_type": "execute_result"
    }
   ],
   "source": [
    "\"\"\"This notebook calculate the weight variables in Vensim calibration based for \n",
    "SSP scenario variables (crops production, energy production, etc.) and \n",
    "SSP basic elements (GDP and population).\"\"\""
   ]
  },
  {
   "cell_type": "code",
   "execution_count": 3,
   "metadata": {},
   "outputs": [],
   "source": [
    "import sys\n",
    "sys.path.append(r'C:\\Users\\moallemie\\EMAworkbench-master')\n",
    "sys.path.append(r'C:\\Users\\moallemie\\EM_analysis')"
   ]
  },
  {
   "cell_type": "code",
   "execution_count": 4,
   "metadata": {},
   "outputs": [],
   "source": [
    "import pandas as pd\n",
    "import numpy as np\n",
    "import matplotlib.pyplot as plt\n",
    "import seaborn as snn"
   ]
  },
  {
   "cell_type": "code",
   "execution_count": 5,
   "metadata": {},
   "outputs": [],
   "source": [
    "directory = 'N:/Brett-lab/Enayat/Felix/Felix_SDGs/' \n",
    "df_scenario = pd.read_excel(directory+\"SSP_Scenarios.xlsx\", sheet_name='IIASA SSPs Data')\n",
    "df_scenario = df_scenario.drop(['2005','2010'], 1)\n",
    "\n",
    "df_population = pd.read_excel(directory+\"SSP_Population.xlsx\", sheet_name='SSPs Data Cumulative')\n",
    "df_population = df_population.drop(['2010', '2015', '2025', '2035', '2045', '2055', '2065', '2075', '2085', '2095'], 1)\n",
    "\n",
    "df_gdp = pd.read_excel(directory+\"SSP_GDP.xlsx\", sheet_name='IIASA SSPs Data')\n",
    "df_gdp = df_gdp.drop(['2010', '2015', '2025', '2035', '2045', '2055', '2065', '2075', '2085', '2095'], 1)"
   ]
  },
  {
   "cell_type": "code",
   "execution_count": 10,
   "metadata": {},
   "outputs": [],
   "source": [
    "years = ['2020', '2030', '2040', '2050', '2060', '2070', '2080', '2090', '2100']\n",
    "\n",
    "\n",
    "sc_variables = ['Agricultural Production|Crops|Non-Energy', \n",
    "           'Agricultural Production|Livestock', 'Emissions|CO2', 'Energy Demand Indicator', \n",
    "           'Land Cover|Cropland', 'Land Cover|Forest', 'Land Cover|Pasture', \n",
    "           'Primary Energy|Biomass', 'Primary Energy|Coal', 'Primary Energy|Gas', 'Primary Energy|Oil', \n",
    "           'Primary Energy|Solar', 'Primary Energy|Wind', 'Diagnostics|MAGICC6|Forcing'] # For scenario variables, we only call some from the many variables.\n",
    "\n",
    "pop_variables = ['Population Primary Education', 'Population Secondary Education', \n",
    "                 'Population Tertiary Education', 'Population']\n",
    "\n",
    "gdp_variables = df_gdp['VARIABLE'].unique().tolist()\n",
    "\n",
    "scenarios = ['SSP1-Baseline', 'SSP2-Baseline', 'SSP3-Baseline', 'SSP4-Baseline', 'SSP5-Baseline']\n",
    "\n",
    "\n",
    "regions = ['World']\n",
    "\n",
    "\n",
    "sc_models = ['AIM/CGE', 'GCAM4', 'IMAGE', 'MESSAGE-GLOBIOM', 'REMIND-MAGPIE',\n",
    "       'WITCH-GLOBIOM']\n",
    "\n",
    "pop_models = df_population['MODEL'].unique().tolist()\n",
    "\n",
    "gdp_models = df_gdp['MODEL'].unique().tolist()"
   ]
  },
  {
   "cell_type": "code",
   "execution_count": 11,
   "metadata": {},
   "outputs": [],
   "source": [
    "# This replaces Energy Demand Indicator with Final Energy Demand in industry, transportation, and residential/commercial in the original IIASA Scenario data.\n",
    "\n",
    "demand_models =  ['AIM/CGE', 'GCAM4', 'IMAGE'] # We choose a subset of models that have estimation for all three sectors.\n",
    "demand_vars = ['Final Energy|Industry', 'Final Energy|Residential and Commercial', 'Final Energy|Transportation']\n",
    "df_demand = df_scenario.loc[df_scenario['VARIABLE'].isin(demand_vars)]\n",
    "\n",
    "# To sum up the demand of the three sectors in each model-scenario estimate sets.\n",
    "for s, scenario in enumerate(scenarios): \n",
    "    for m, model in enumerate(demand_models): \n",
    "        df_demand2 = df_demand[(df_demand['SCENARIO'] == scenario) & (df_demand['REGION'] == 'World') \n",
    "                              & (df_demand['MODEL'] == model)]\n",
    "        df_sum = df_demand2.sum(axis=0)\n",
    "        # To replace the string sumup in columns with string values. \n",
    "        df_sum['MODEL', 'SCENARIO', 'REGION', 'VARIABLE', 'UNIT'] = [model, scenario, 'World', 'Energy Demand Indicator', 'EJ/yr']\n",
    "        df_scenario = df_scenario.append(df_sum, ignore_index=True)\n",
    "\n",
    "# To remove all rows for sectoral demand from scenario dataframe.\n",
    "df_scenario = df_scenario.drop(df_scenario[df_scenario['VARIABLE'].isin(demand_vars)].index)\n",
    "        "
   ]
  },
  {
   "cell_type": "code",
   "execution_count": 13,
   "metadata": {},
   "outputs": [],
   "source": [
    "from openpyxl import load_workbook\n",
    "\n",
    "path = 'N:/Brett-lab/Enayat/Optimisation_Weights.xlsx' \n",
    "\n",
    "dict_weight_df = {}\n",
    "\n",
    "for s, scenario in enumerate(scenarios):\n",
    "    \n",
    "    weight_df = pd.DataFrame(index=sc_variables+pop_variables+gdp_variables, columns=years)\n",
    "    \n",
    "    # Create weight dataframe for scenario variables.\n",
    "    # For scenario variables, the weight is calculated with standard error to consider: 1. the prediction error of estimates from differnet models\n",
    "    # to consider the impact of uncertainty, and 2. the mean of differnet estimates to consider the imapct of scale. \n",
    "    for v, sc_variable in enumerate(sc_variables):\n",
    "        df_sc = df_scenario[(df_scenario['SCENARIO'] == scenario) & (df_scenario['REGION'] == 'World') \n",
    "                             & (df_scenario['VARIABLE'] == sc_variable)]\n",
    "        for y, year in enumerate(years):\n",
    "            weight_df.loc[sc_variable][year] = 1/df_sc[year].std()\n",
    "            \n",
    "    \n",
    "    # Create weight dataframe for population variables.\n",
    "    # For Population, there is only one estimate from IIASA, \n",
    "    # so there is no estimate uncertainty, and the weight is simply 1/estimate (which is equal to 1/mean(estimate)).\n",
    "    for v, pop_variable in enumerate(pop_variables):\n",
    "        df_pop = df_population[(df_population['SCENARIO'] == scenario) & (df_population['REGION'] == 'World') \n",
    "                             & (df_population['VARIABLE'] == pop_variable)]\n",
    "        for y, year in enumerate(years):\n",
    "            weight_df.loc[pop_variable][year] = 1/df_pop[year].mean()\n",
    "            \n",
    "            \n",
    "    # Create weight dataframe for GDP variable.\n",
    "    # For GDP variable, the weight is calculated similar to scenario variables. \n",
    "    for v, gdp_variable in enumerate(gdp_variables):\n",
    "        df_g = df_gdp[(df_gdp['SCENARIO'] == scenario) & (df_gdp['REGION'] == 'World') \n",
    "                             & (df_gdp['VARIABLE'] == gdp_variable)]\n",
    "        for y, year in enumerate(years):\n",
    "            weight_df.loc[gdp_variable][year] = 1/df_g[year].std()\n",
    "    \n",
    "    \n",
    "    # Rename the index of weight dataframe to match the Felix model variable.\n",
    "    weight_df.rename(index={'Agricultural Production|Crops|Non-Energy': 'Nonenergy Crops Production Indicator', \n",
    "                      'Agricultural Production|Livestock':'Livestock Production Indicator', \n",
    "                      'Emissions|CO2':'Total CO2 Emissions Indicator', \n",
    "                      'Land Cover|Cropland':'Total Croplands Indicator', \n",
    "                      'Land Cover|Forest':'Forest Land Indicator', \n",
    "                      'Land Cover|Pasture':'Pasture Land Indicator', \n",
    "                      'Primary Energy|Biomass':'Biomass Energy Production Indicator', \n",
    "                      'Primary Energy|Coal':'Coal Production Indicator', \n",
    "                      'Primary Energy|Gas':'Gas Production Indicator', \n",
    "                      'Primary Energy|Oil':'Oil Production Indicator', \n",
    "                      'Primary Energy|Solar':'Solar Energy Production Indicator', \n",
    "                      'Primary Energy|Wind':'Wind Energy Production Indicator', \n",
    "                      'Diagnostics|MAGICC6|Forcing':'CO2 Radiative Forcing Indicator',\n",
    "                      'Population':'Total Population Indicator',\n",
    "                      'Population Primary Education':'Total Primary Education Graduates Indicator',\n",
    "                      'Population Secondary Education':'Total Secondary Education Graduates Indicator',\n",
    "                      'Population Tertiary Education':'Total Tertiary Education Graduates Indicator', \n",
    "                      'GDP|PPP per capita':'GWP per Capita Indicator'}, inplace =True)\n",
    "    \n",
    "    dict_weight_df[scenario] = weight_df\n",
    "    # Save the weight dataframe in an excel, seperated in different sheets based on scenario. \n",
    "    if s == 0:\n",
    "        writer = pd.ExcelWriter(path, engine = 'xlsxwriter')\n",
    "        weight_df.to_excel(writer, sheet_name = scenario)\n",
    "        writer.save()\n",
    "        writer.close()\n",
    "\n",
    "    else:\n",
    "        book = load_workbook(path)\n",
    "        writer = pd.ExcelWriter(path, engine = 'openpyxl')\n",
    "        writer.book = book\n",
    "        weight_df.to_excel(writer, sheet_name = scenario)\n",
    "        writer.save()\n",
    "        writer.close()\n"
   ]
  },
  {
   "cell_type": "code",
   "execution_count": 47,
   "metadata": {},
   "outputs": [
    {
     "data": {
      "text/plain": [
       "0.005016993959010622"
      ]
     },
     "execution_count": 47,
     "metadata": {},
     "output_type": "execute_result"
    }
   ],
   "source": [
    "dict_weight_df['SSP2-Baseline'].loc['Forest Land Indicator']['2020']"
   ]
  }
 ],
 "metadata": {
  "kernelspec": {
   "display_name": "Python 3",
   "language": "python",
   "name": "python3"
  },
  "language_info": {
   "codemirror_mode": {
    "name": "ipython",
    "version": 3
   },
   "file_extension": ".py",
   "mimetype": "text/x-python",
   "name": "python",
   "nbconvert_exporter": "python",
   "pygments_lexer": "ipython3",
   "version": "3.7.6"
  }
 },
 "nbformat": 4,
 "nbformat_minor": 4
}
