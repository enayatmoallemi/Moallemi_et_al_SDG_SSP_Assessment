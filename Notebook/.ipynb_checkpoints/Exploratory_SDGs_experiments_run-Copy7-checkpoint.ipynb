{
 "cells": [
  {
   "cell_type": "raw",
   "metadata": {},
   "source": [
    "This notebook is for generating exploratory experiments for each SSPs under baseline and mitigation policy scenarios. "
   ]
  },
  {
   "cell_type": "code",
   "execution_count": null,
   "metadata": {},
   "outputs": [],
   "source": [
    "import sys\n",
    "sys.path.append(r'C:\\Users\\moallemie\\EMAworkbench-master')\n",
    "sys.path.append(r'C:\\Users\\moallemie\\GitHub\\SSPs_SDGs_Assessment')"
   ]
  },
  {
   "cell_type": "code",
   "execution_count": null,
   "metadata": {},
   "outputs": [],
   "source": [
    "import pandas as pd\n",
    "import numpy as np\n",
    "import matplotlib.pyplot as plt\n",
    "import seaborn as sns\n",
    "from ema_workbench import load_results, ema_logging"
   ]
  },
  {
   "cell_type": "markdown",
   "metadata": {},
   "source": [
    "## Load the model, uncertainities, outcomes; Run the experiments"
   ]
  },
  {
   "cell_type": "code",
   "execution_count": null,
   "metadata": {},
   "outputs": [],
   "source": [
    "# Specify the SSP, number of parallel processors, the number of scenarios, and the climate policy assumption (RCP).\n",
    "ssp_name = 'SSP1'\n",
    "n_process = 50\n",
    "n_scenario = 5000\n",
    "RCP = 26"
   ]
  },
  {
   "cell_type": "code",
   "execution_count": null,
   "metadata": {
    "scrolled": true
   },
   "outputs": [],
   "source": [
    "# Open Excel input data from the notebook directory before runnign the code in multi-processing.\n",
    "# This line must be at the beginning for multi processing. \n",
    "if __name__ == '__main__':\n",
    "    \n",
    "   \n",
    "    ema_logging.log_to_stderr(ema_logging.INFO)\n",
    "    \n",
    "    #The model must be imported as .py file in parallel processing. Make sure the Venism package file and directory is correct \n",
    "    # in Model_init file in the Notebook directory.\n",
    "    from Model_init import vensimModel\n",
    "    \n",
    "    from ema_workbench import (TimeSeriesOutcome, \n",
    "                                   perform_experiments,\n",
    "                                   RealParameter, \n",
    "                                   CategoricalParameter,\n",
    "                                   Constant,\n",
    "                                   ema_logging, \n",
    "                                   save_results,\n",
    "                                  load_results)\n",
    "\n",
    "    directory = 'C:/Users/moallemie/GitHub/SSPs_SDGs_Assessment/Model/'\n",
    " \n",
    "    # Specify uncertainties\n",
    "    df_unc = pd.read_excel(directory+'ScenarioFramework.xlsx', sheet_name='Exploratory_analysis_'+ssp_name)\n",
    "    vensimModel.uncertainties = [RealParameter(row['Uncertainty'], row['Min'], row['Max']) for index, row in df_unc.iterrows()]   \n",
    "    \n",
    "    # Override other parameters with the default related SSP values\n",
    "    df_const = pd.read_excel(directory+'ScenarioFramework.xlsx', sheet_name='Exploratory_analysis_constants')\n",
    "    rcp_dict = {26:1, 45:2, 60:3, 85:4}\n",
    "    vensimModel.constants = [Constant(row['Constant'], row[ssp_name]) for index, row in df_const.iterrows()] + [Constant('RCP Scenario', rcp_dict[RCP])]   \n",
    "    \n",
    "    # Specify outcomes\n",
    "    df_ind1 = pd.read_excel(directory+'ScenarioFramework.xlsx', sheet_name='SDG_indicator_target')\n",
    "    df_calout = pd.read_excel(directory+'ScenarioFramework.xlsx', sheet_name='Outcomes')\n",
    "    vensimModel.outcomes = [TimeSeriesOutcome(out) for out in df_ind1['Target indicator']] + [TimeSeriesOutcome(out) for out in df_calout['Outcome']] \n",
    "\n",
    "\n",
    "    from ema_workbench import MultiprocessingEvaluator\n",
    "    from ema_workbench.em_framework.evaluators import (MC, LHS, FAST, FF, PFF, SOBOL, MORRIS)\n",
    "\n",
    "    import  time\n",
    "    start = time.time()\n",
    "\n",
    "    with MultiprocessingEvaluator(vensimModel, n_processes=n_process) as evaluator:\n",
    "        results = evaluator.perform_experiments(scenarios=n_scenario, uncertainty_sampling=LHS)\n",
    "\n",
    "    \n",
    "    \n",
    "    end = time.time()\n",
    "    print(\"took {} seconds\".format(end-start))\n",
    "    \n",
    "    fn = 'C:/Users/moallemie/GitHub/SSPs_SDGs_Assessment/Data/Exploration_results/SDG_{}_exploratory_sc{}_{}.tar.gz'.format(ssp_name, n_scenario, RCP)\n",
    "\n",
    "    save_results(results, fn)"
   ]
  },
  {
   "cell_type": "code",
   "execution_count": null,
   "metadata": {},
   "outputs": [],
   "source": [
    "experiments, outcomes = results"
   ]
  },
  {
   "cell_type": "code",
   "execution_count": null,
   "metadata": {},
   "outputs": [],
   "source": [
    "outcomes"
   ]
  }
 ],
 "metadata": {
  "kernelspec": {
   "display_name": "Python 3",
   "language": "python",
   "name": "python3"
  },
  "language_info": {
   "codemirror_mode": {
    "name": "ipython",
    "version": 3
   },
   "file_extension": ".py",
   "mimetype": "text/x-python",
   "name": "python",
   "nbconvert_exporter": "python",
   "pygments_lexer": "ipython3",
   "version": "3.7.6"
  }
 },
 "nbformat": 4,
 "nbformat_minor": 2
}
