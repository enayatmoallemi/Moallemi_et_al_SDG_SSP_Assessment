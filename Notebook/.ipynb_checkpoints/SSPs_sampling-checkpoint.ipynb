{
 "cells": [
  {
   "cell_type": "code",
   "execution_count": 1,
   "metadata": {},
   "outputs": [],
   "source": [
    "import sys\n",
    "sys.path.append(r'C:\\Users\\moallemie\\EMAworkbench-master')\n",
    "sys.path.append(r'C:\\Users\\moallemie\\EM_analysis')"
   ]
  },
  {
   "cell_type": "code",
   "execution_count": 2,
   "metadata": {},
   "outputs": [],
   "source": [
    "import pandas as pd\n",
    "import numpy as np\n",
    "import matplotlib.pyplot as plt\n",
    "import seaborn as sns\n",
    "from ema_workbench import load_results, ema_logging"
   ]
  },
  {
   "cell_type": "code",
   "execution_count": 3,
   "metadata": {},
   "outputs": [],
   "source": [
    "# Set up number of scenarios, outcome of interest, and number of parallel processors\n",
    "\n",
    "sc = 100    # Specify the number of scenarios where the convergence in the SA indices occures\n",
    "t = 2100\n",
    "nprocess = 20"
   ]
  },
  {
   "cell_type": "markdown",
   "metadata": {},
   "source": [
    "## Loading the model, uncertainities, and outcomes and generate experiments"
   ]
  },
  {
   "cell_type": "code",
   "execution_count": 7,
   "metadata": {
    "scrolled": true
   },
   "outputs": [
    {
     "name": "stderr",
     "output_type": "stream",
     "text": [
      "[MainProcess/INFO] pool started\n",
      "[MainProcess/INFO] performing 100 scenarios * 1 policies * 1 model(s) = 100 experiments\n",
      "[MainProcess/INFO] 10 cases completed\n",
      "[MainProcess/INFO] 20 cases completed\n",
      "[MainProcess/INFO] 30 cases completed\n",
      "[MainProcess/INFO] 40 cases completed\n",
      "[MainProcess/INFO] 50 cases completed\n",
      "[MainProcess/INFO] 60 cases completed\n",
      "[MainProcess/INFO] 70 cases completed\n",
      "[MainProcess/INFO] 80 cases completed\n",
      "[MainProcess/INFO] 90 cases completed\n",
      "[MainProcess/INFO] 100 cases completed\n",
      "[MainProcess/INFO] experiments finished\n",
      "[MainProcess/INFO] terminating pool\n"
     ]
    },
    {
     "name": "stdout",
     "output_type": "stream",
     "text": [
      "took 51.275752544403076 seconds\n"
     ]
    }
   ],
   "source": [
    "\n",
    "if __name__ == '__main__':\n",
    "    \n",
    "   \n",
    "    ema_logging.log_to_stderr(ema_logging.INFO)\n",
    "    \n",
    "    #The model must be imoorted as .py file in parallel processing.\n",
    "    from Model_init import vensimModel\n",
    "    \n",
    "    from ema_workbench import (TimeSeriesOutcome, \n",
    "                               perform_experiments,\n",
    "                               RealParameter, \n",
    "                               CategoricalParameter,\n",
    "                               ema_logging, \n",
    "                               save_results,\n",
    "                               load_results)\n",
    "\n",
    "    directory = 'C:/Users/moallemie/EM_analysis/Model/'\n",
    "\n",
    "    df_unc = pd.read_excel(directory+'SSPs_Calibration_Results.xlsx', sheet_name='SSPs')\n",
    "\n",
    "    # Note that CategoricalParameter doesn't accept duplicate or singular categories. So they need to be removed when reading from the spreadsheet\n",
    "    vensim_uncertainties = []\n",
    "    for index, row in df_unc.iterrows():\n",
    "        parameter_set = set([row['SSP1'],row['SSP2'], row['SSP3'], row['SSP4'], row['SSP5']]) # By converting to a set, duplivate values for each parameter are removed.\n",
    "        vensim_uncertainties.append(CategoricalParameter(row['Uncertainty'], list(parameter_set))) \n",
    "  \n",
    "    vensimModel.uncertainties = vensim_uncertainties\n",
    "    \n",
    "    df_out = pd.read_excel(directory+'ScenarioFramework.xlsx', sheet_name='Outcomes')\n",
    "    vensimModel.outcomes = [TimeSeriesOutcome(out) for out in df_out['Outcome']]\n",
    "\n",
    "\n",
    "    from ema_workbench import MultiprocessingEvaluator\n",
    "    from ema_workbench.em_framework.evaluators import (MC, LHS, FAST, FF, PFF, SOBOL, MORRIS)\n",
    "\n",
    "    import  time\n",
    "    start = time.time()\n",
    "\n",
    "    with MultiprocessingEvaluator(vensimModel, n_processes=nprocess) as evaluator:\n",
    "        results = evaluator.perform_experiments(scenarios=sc, uncertainty_sampling=LHS)\n",
    "\n",
    "    \n",
    "    \n",
    "    end = time.time()\n",
    "    print(\"took {} seconds\".format(end-start))\n",
    "\n"
   ]
  },
  {
   "cell_type": "code",
   "execution_count": null,
   "metadata": {},
   "outputs": [],
   "source": [
    "experiments, outcomes = results"
   ]
  },
  {
   "cell_type": "code",
   "execution_count": null,
   "metadata": {},
   "outputs": [],
   "source": [
    "r_dir = 'D:/moallemie/EM_analysis/Data/'\n",
    "\n",
    "save_results(results, r_dir+\"SDG_experiments_ranking_verification_{}_sc{}.tar.gz\".format(outcome_var, sc))"
   ]
  }
 ],
 "metadata": {
  "kernelspec": {
   "display_name": "Python 3",
   "language": "python",
   "name": "python3"
  },
  "language_info": {
   "codemirror_mode": {
    "name": "ipython",
    "version": 3
   },
   "file_extension": ".py",
   "mimetype": "text/x-python",
   "name": "python",
   "nbconvert_exporter": "python",
   "pygments_lexer": "ipython3",
   "version": "3.7.6"
  }
 },
 "nbformat": 4,
 "nbformat_minor": 2
}
