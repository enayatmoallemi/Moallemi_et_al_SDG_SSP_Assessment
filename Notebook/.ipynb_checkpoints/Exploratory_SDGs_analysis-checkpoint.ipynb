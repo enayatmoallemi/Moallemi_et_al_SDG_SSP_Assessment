{
 "cells": [
  {
   "cell_type": "raw",
   "metadata": {},
   "source": [
    "This notebook is for generating exploratory experiments for each SSPs under baseline and mitigation policy scenarios. "
   ]
  },
  {
   "cell_type": "code",
   "execution_count": 1,
   "metadata": {},
   "outputs": [],
   "source": [
    "import sys\n",
    "sys.path.append(r'C:\\Users\\moallemie\\EMAworkbench-master')\n",
    "sys.path.append(r'C:\\Users\\moallemie\\EM_analysis')"
   ]
  },
  {
   "cell_type": "code",
   "execution_count": 2,
   "metadata": {},
   "outputs": [],
   "source": [
    "import pandas as pd\n",
    "import numpy as np\n",
    "import matplotlib.pyplot as plt\n",
    "import seaborn as sns\n",
    "from ema_workbench import load_results, ema_logging"
   ]
  },
  {
   "cell_type": "markdown",
   "metadata": {},
   "source": [
    "## Load the model, uncertainities, outcomes; Run the experiments"
   ]
  },
  {
   "cell_type": "code",
   "execution_count": 3,
   "metadata": {
    "scrolled": false
   },
   "outputs": [
    {
     "name": "stderr",
     "output_type": "stream",
     "text": [
      "[MainProcess/INFO] using 64 bit vensim\n",
      "[MainProcess/INFO] pool started\n",
      "[MainProcess/INFO] performing 1000 scenarios * 1 policies * 1 model(s) = 1000 experiments\n",
      "[MainProcess/INFO] 100 cases completed\n",
      "[MainProcess/INFO] 200 cases completed\n",
      "[MainProcess/INFO] 300 cases completed\n",
      "[MainProcess/INFO] 400 cases completed\n",
      "[MainProcess/INFO] 500 cases completed\n",
      "[MainProcess/INFO] 600 cases completed\n",
      "[MainProcess/INFO] 700 cases completed\n",
      "[MainProcess/INFO] 800 cases completed\n",
      "[MainProcess/INFO] 900 cases completed\n",
      "[MainProcess/INFO] 1000 cases completed\n",
      "[MainProcess/INFO] experiments finished\n",
      "[MainProcess/INFO] terminating pool\n"
     ]
    },
    {
     "name": "stdout",
     "output_type": "stream",
     "text": [
      "took 202.3288791179657 seconds\n"
     ]
    },
    {
     "name": "stderr",
     "output_type": "stream",
     "text": [
      "[MainProcess/INFO] results saved successfully to D:\\moallemie\\EM_analysis\\Data\\SDG_SSP5_exploratory_sc1000.tar.gz\n"
     ]
    }
   ],
   "source": [
    "# Open Excel input data from the notebook directory before runnign the code in multi-processing.\n",
    "# This line must be at the beginning for multi processing. \n",
    "if __name__ == '__main__':\n",
    "    \n",
    "   \n",
    "    ema_logging.log_to_stderr(ema_logging.INFO)\n",
    "    \n",
    "    #The model must be imported as .py file in parallel processing. Make sure the Venism package file and directory is correct \n",
    "    # in Model_init file in the Notebook directory.\n",
    "    from Model_init import vensimModel\n",
    "    \n",
    "    from ema_workbench import (TimeSeriesOutcome, \n",
    "                                   perform_experiments,\n",
    "                                   RealParameter, \n",
    "                                   CategoricalParameter,\n",
    "                                   Constant,\n",
    "                                   ema_logging, \n",
    "                                   save_results,\n",
    "                                  load_results)\n",
    "\n",
    "    directory = 'C:/Users/moallemie/EM_analysis/Model/Exploratory_analysis/'\n",
    " \n",
    "    # Fo Running experiments of each SSP, make sure you update the SSP name in the sheet_name line below.\n",
    "    df_unc = pd.read_excel(directory+'ScenarioFramework.xlsx', sheet_name='Exploratory_analysis_SSP5')\n",
    "\n",
    "    vensimModel.uncertainties = [RealParameter(row['Uncertainty'], row['Min'], row['Max']) for index, row in df_unc.iterrows()]   \n",
    "    \n",
    "    df_calout = pd.read_excel(directory+'ScenarioFramework.xlsx', sheet_name='Outcomes')\n",
    "    df_indout = pd.read_excel(directory+'ScenarioFramework.xlsx', sheet_name='SDG_indicators')\n",
    "    vensimModel.outcomes = [TimeSeriesOutcome(out) for out in df_calout['Outcome']] + [TimeSeriesOutcome(out) for out in df_indout['Model output indicator']] \n",
    "\n",
    "\n",
    "    from ema_workbench import MultiprocessingEvaluator\n",
    "    from ema_workbench.em_framework.evaluators import (MC, LHS, FAST, FF, PFF, SOBOL, MORRIS)\n",
    "\n",
    "    import  time\n",
    "    start = time.time()\n",
    "\n",
    "    with MultiprocessingEvaluator(vensimModel, n_processes=80) as evaluator:\n",
    "        results = evaluator.perform_experiments(scenarios=1000, uncertainty_sampling=LHS)\n",
    "\n",
    "    \n",
    "    \n",
    "    end = time.time()\n",
    "    print(\"took {} seconds\".format(end-start))\n",
    "    \n",
    "    fn = 'D:/moallemie/EM_analysis/Data/SDG_SSP5_exploratory_sc1000.tar.gz'\n",
    "\n",
    "    save_results(results, fn)"
   ]
  },
  {
   "cell_type": "code",
   "execution_count": null,
   "metadata": {},
   "outputs": [],
   "source": [
    "experiments, outcomes = results"
   ]
  },
  {
   "cell_type": "code",
   "execution_count": null,
   "metadata": {},
   "outputs": [],
   "source": [
    "outcomes"
   ]
  }
 ],
 "metadata": {
  "kernelspec": {
   "display_name": "Python 3",
   "language": "python",
   "name": "python3"
  },
  "language_info": {
   "codemirror_mode": {
    "name": "ipython",
    "version": 3
   },
   "file_extension": ".py",
   "mimetype": "text/x-python",
   "name": "python",
   "nbconvert_exporter": "python",
   "pygments_lexer": "ipython3",
   "version": "3.7.6"
  }
 },
 "nbformat": 4,
 "nbformat_minor": 2
}
